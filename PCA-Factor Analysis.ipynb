{
 "cells": [
  {
   "cell_type": "code",
   "execution_count": null,
   "metadata": {},
   "outputs": [],
   "source": []
  },
  {
   "cell_type": "markdown",
   "metadata": {},
   "source": [
    "### Importing the libraries"
   ]
  },
  {
   "cell_type": "code",
   "execution_count": 1,
   "metadata": {},
   "outputs": [],
   "source": [
    "import pandas as pd\n",
    "import numpy as np\n",
    "import matplotlib.pyplot as plt\n",
    "import seaborn as sns\n",
    "import warnings\n",
    "warnings.filterwarnings('ignore')"
   ]
  },
  {
   "cell_type": "markdown",
   "metadata": {},
   "source": [
    "### Loading the dataset"
   ]
  },
  {
   "cell_type": "code",
   "execution_count": 2,
   "metadata": {},
   "outputs": [
    {
     "data": {
      "text/html": [
       "<div>\n",
       "<style scoped>\n",
       "    .dataframe tbody tr th:only-of-type {\n",
       "        vertical-align: middle;\n",
       "    }\n",
       "\n",
       "    .dataframe tbody tr th {\n",
       "        vertical-align: top;\n",
       "    }\n",
       "\n",
       "    .dataframe thead th {\n",
       "        text-align: right;\n",
       "    }\n",
       "</style>\n",
       "<table border=\"1\" class=\"dataframe\">\n",
       "  <thead>\n",
       "    <tr style=\"text-align: right;\">\n",
       "      <th></th>\n",
       "      <th>id</th>\n",
       "      <th>Attr1</th>\n",
       "      <th>Attr2</th>\n",
       "      <th>Attr3</th>\n",
       "      <th>Attr4</th>\n",
       "      <th>Attr5</th>\n",
       "      <th>Attr6</th>\n",
       "      <th>Attr7</th>\n",
       "      <th>Attr8</th>\n",
       "      <th>Attr9</th>\n",
       "      <th>...</th>\n",
       "      <th>Attr56</th>\n",
       "      <th>Attr57</th>\n",
       "      <th>Attr58</th>\n",
       "      <th>Attr59</th>\n",
       "      <th>Attr60</th>\n",
       "      <th>Attr61</th>\n",
       "      <th>Attr62</th>\n",
       "      <th>Attr63</th>\n",
       "      <th>Attr64</th>\n",
       "      <th>class</th>\n",
       "    </tr>\n",
       "  </thead>\n",
       "  <tbody>\n",
       "    <tr>\n",
       "      <th>0</th>\n",
       "      <td>1</td>\n",
       "      <td>0.174190</td>\n",
       "      <td>0.41299</td>\n",
       "      <td>0.14371</td>\n",
       "      <td>1.348</td>\n",
       "      <td>-28.982</td>\n",
       "      <td>0.60383</td>\n",
       "      <td>0.219460</td>\n",
       "      <td>1.1225</td>\n",
       "      <td>1.1961</td>\n",
       "      <td>...</td>\n",
       "      <td>0.16396</td>\n",
       "      <td>0.375740</td>\n",
       "      <td>0.83604</td>\n",
       "      <td>0.000007</td>\n",
       "      <td>9.7145</td>\n",
       "      <td>6.2813</td>\n",
       "      <td>84.291</td>\n",
       "      <td>4.3303</td>\n",
       "      <td>4.0341</td>\n",
       "      <td>0</td>\n",
       "    </tr>\n",
       "    <tr>\n",
       "      <th>1</th>\n",
       "      <td>2</td>\n",
       "      <td>0.146240</td>\n",
       "      <td>0.46038</td>\n",
       "      <td>0.28230</td>\n",
       "      <td>1.6294</td>\n",
       "      <td>2.5952</td>\n",
       "      <td>0.00000</td>\n",
       "      <td>0.171850</td>\n",
       "      <td>1.1721</td>\n",
       "      <td>1.6018</td>\n",
       "      <td>...</td>\n",
       "      <td>0.027516</td>\n",
       "      <td>0.271000</td>\n",
       "      <td>0.90108</td>\n",
       "      <td>0.000000</td>\n",
       "      <td>5.9882</td>\n",
       "      <td>4.1103</td>\n",
       "      <td>102.19</td>\n",
       "      <td>3.5716</td>\n",
       "      <td>5.95</td>\n",
       "      <td>0</td>\n",
       "    </tr>\n",
       "    <tr>\n",
       "      <th>2</th>\n",
       "      <td>3</td>\n",
       "      <td>0.000595</td>\n",
       "      <td>0.22612</td>\n",
       "      <td>0.48839</td>\n",
       "      <td>3.1599</td>\n",
       "      <td>84.874</td>\n",
       "      <td>0.19114</td>\n",
       "      <td>0.004572</td>\n",
       "      <td>2.9881</td>\n",
       "      <td>1.0077</td>\n",
       "      <td>...</td>\n",
       "      <td>0.0076387</td>\n",
       "      <td>0.000881</td>\n",
       "      <td>0.99236</td>\n",
       "      <td>0.000000</td>\n",
       "      <td>6.7742</td>\n",
       "      <td>3.7922</td>\n",
       "      <td>64.846</td>\n",
       "      <td>5.6287</td>\n",
       "      <td>4.4581</td>\n",
       "      <td>0</td>\n",
       "    </tr>\n",
       "    <tr>\n",
       "      <th>3</th>\n",
       "      <td>4</td>\n",
       "      <td>0.024526</td>\n",
       "      <td>0.43236</td>\n",
       "      <td>0.27546</td>\n",
       "      <td>1.7833</td>\n",
       "      <td>-10.105</td>\n",
       "      <td>0.56944</td>\n",
       "      <td>0.024526</td>\n",
       "      <td>1.3057</td>\n",
       "      <td>1.0509</td>\n",
       "      <td>...</td>\n",
       "      <td>0.048398</td>\n",
       "      <td>0.043445</td>\n",
       "      <td>0.9516</td>\n",
       "      <td>0.142980</td>\n",
       "      <td>4.2286</td>\n",
       "      <td>5.0528</td>\n",
       "      <td>98.783</td>\n",
       "      <td>3.695</td>\n",
       "      <td>3.4844</td>\n",
       "      <td>0</td>\n",
       "    </tr>\n",
       "    <tr>\n",
       "      <th>4</th>\n",
       "      <td>5</td>\n",
       "      <td>0.188290</td>\n",
       "      <td>0.41504</td>\n",
       "      <td>0.34231</td>\n",
       "      <td>1.9279</td>\n",
       "      <td>-58.274</td>\n",
       "      <td>0.00000</td>\n",
       "      <td>0.233580</td>\n",
       "      <td>1.4094</td>\n",
       "      <td>1.3393</td>\n",
       "      <td>...</td>\n",
       "      <td>0.17648</td>\n",
       "      <td>0.321880</td>\n",
       "      <td>0.82635</td>\n",
       "      <td>0.073039</td>\n",
       "      <td>2.5912</td>\n",
       "      <td>7.0756</td>\n",
       "      <td>100.54</td>\n",
       "      <td>3.6303</td>\n",
       "      <td>4.6375</td>\n",
       "      <td>0</td>\n",
       "    </tr>\n",
       "  </tbody>\n",
       "</table>\n",
       "<p>5 rows × 66 columns</p>\n",
       "</div>"
      ],
      "text/plain": [
       "   id     Attr1    Attr2    Attr3   Attr4    Attr5    Attr6     Attr7   Attr8  \\\n",
       "0   1  0.174190  0.41299  0.14371   1.348  -28.982  0.60383  0.219460  1.1225   \n",
       "1   2  0.146240  0.46038  0.28230  1.6294   2.5952  0.00000  0.171850  1.1721   \n",
       "2   3  0.000595  0.22612  0.48839  3.1599   84.874  0.19114  0.004572  2.9881   \n",
       "3   4  0.024526  0.43236  0.27546  1.7833  -10.105  0.56944  0.024526  1.3057   \n",
       "4   5  0.188290  0.41504  0.34231  1.9279  -58.274  0.00000  0.233580  1.4094   \n",
       "\n",
       "    Attr9  ...     Attr56    Attr57   Attr58    Attr59  Attr60  Attr61  \\\n",
       "0  1.1961  ...    0.16396  0.375740  0.83604  0.000007  9.7145  6.2813   \n",
       "1  1.6018  ...   0.027516  0.271000  0.90108  0.000000  5.9882  4.1103   \n",
       "2  1.0077  ...  0.0076387  0.000881  0.99236  0.000000  6.7742  3.7922   \n",
       "3  1.0509  ...   0.048398  0.043445   0.9516  0.142980  4.2286  5.0528   \n",
       "4  1.3393  ...    0.17648  0.321880  0.82635  0.073039  2.5912  7.0756   \n",
       "\n",
       "   Attr62  Attr63  Attr64 class  \n",
       "0  84.291  4.3303  4.0341     0  \n",
       "1  102.19  3.5716    5.95     0  \n",
       "2  64.846  5.6287  4.4581     0  \n",
       "3  98.783   3.695  3.4844     0  \n",
       "4  100.54  3.6303  4.6375     0  \n",
       "\n",
       "[5 rows x 66 columns]"
      ]
     },
     "execution_count": 2,
     "metadata": {},
     "output_type": "execute_result"
    }
   ],
   "source": [
    "data=pd.read_csv(\"E:\\\\Data\\\\csv_result_3year.csv\")\n",
    "data.head()"
   ]
  },
  {
   "cell_type": "code",
   "execution_count": null,
   "metadata": {},
   "outputs": [],
   "source": []
  },
  {
   "cell_type": "markdown",
   "metadata": {},
   "source": [
    "### Shape of the dataset"
   ]
  },
  {
   "cell_type": "code",
   "execution_count": 3,
   "metadata": {},
   "outputs": [
    {
     "name": "stdout",
     "output_type": "stream",
     "text": [
      "There are 10503 records with 66 features\n"
     ]
    }
   ],
   "source": [
    "print('There are {} records with {} features'.format(data.shape[0],data.shape[1]))"
   ]
  },
  {
   "cell_type": "code",
   "execution_count": null,
   "metadata": {},
   "outputs": [],
   "source": []
  },
  {
   "cell_type": "markdown",
   "metadata": {},
   "source": [
    "### Checking whethere there is any missing values"
   ]
  },
  {
   "cell_type": "code",
   "execution_count": 4,
   "metadata": {},
   "outputs": [
    {
     "data": {
      "text/plain": [
       "id        0\n",
       "Attr49    0\n",
       "Attr35    0\n",
       "Attr36    0\n",
       "Attr37    0\n",
       "         ..\n",
       "Attr27    0\n",
       "Attr28    0\n",
       "Attr29    0\n",
       "Attr30    0\n",
       "class     0\n",
       "Length: 66, dtype: int64"
      ]
     },
     "execution_count": 4,
     "metadata": {},
     "output_type": "execute_result"
    }
   ],
   "source": [
    "data.isnull().sum().sort_values(ascending=False)"
   ]
  },
  {
   "cell_type": "raw",
   "metadata": {},
   "source": [
    "There are no missing values as of now"
   ]
  },
  {
   "cell_type": "code",
   "execution_count": null,
   "metadata": {},
   "outputs": [],
   "source": []
  },
  {
   "cell_type": "markdown",
   "metadata": {},
   "source": [
    "### Checking the datatype of the features"
   ]
  },
  {
   "cell_type": "code",
   "execution_count": 5,
   "metadata": {},
   "outputs": [
    {
     "data": {
      "text/plain": [
       "id          int64\n",
       "Attr1     float64\n",
       "Attr2     float64\n",
       "Attr3     float64\n",
       "Attr4      object\n",
       "           ...   \n",
       "Attr61     object\n",
       "Attr62     object\n",
       "Attr63     object\n",
       "Attr64     object\n",
       "class       int64\n",
       "Length: 66, dtype: object"
      ]
     },
     "execution_count": 5,
     "metadata": {},
     "output_type": "execute_result"
    }
   ],
   "source": [
    "data.dtypes"
   ]
  },
  {
   "cell_type": "raw",
   "metadata": {},
   "source": [
    "All the features should be in float data types but as we can see there are some features which have object data type."
   ]
  },
  {
   "cell_type": "code",
   "execution_count": null,
   "metadata": {},
   "outputs": [],
   "source": []
  },
  {
   "cell_type": "code",
   "execution_count": 6,
   "metadata": {},
   "outputs": [],
   "source": [
    "#list of categorical features\n"
   ]
  },
  {
   "cell_type": "code",
   "execution_count": 13,
   "metadata": {},
   "outputs": [],
   "source": [
    "categorical_feat=[]\n",
    "for i in data:\n",
    "    if data[i].dtypes == 'object':\n",
    "        categorical_feat.append(i)"
   ]
  },
  {
   "cell_type": "code",
   "execution_count": 14,
   "metadata": {},
   "outputs": [
    {
     "data": {
      "text/plain": [
       "['Attr4',\n",
       " 'Attr5',\n",
       " 'Attr8',\n",
       " 'Attr9',\n",
       " 'Attr12',\n",
       " 'Attr13',\n",
       " 'Attr15',\n",
       " 'Attr16',\n",
       " 'Attr17',\n",
       " 'Attr19',\n",
       " 'Attr20',\n",
       " 'Attr21',\n",
       " 'Attr23',\n",
       " 'Attr24',\n",
       " 'Attr26',\n",
       " 'Attr27',\n",
       " 'Attr28',\n",
       " 'Attr30',\n",
       " 'Attr31',\n",
       " 'Attr32',\n",
       " 'Attr33',\n",
       " 'Attr34',\n",
       " 'Attr37',\n",
       " 'Attr39',\n",
       " 'Attr40',\n",
       " 'Attr41',\n",
       " 'Attr42',\n",
       " 'Attr43',\n",
       " 'Attr44',\n",
       " 'Attr45',\n",
       " 'Attr46',\n",
       " 'Attr47',\n",
       " 'Attr49',\n",
       " 'Attr50',\n",
       " 'Attr52',\n",
       " 'Attr53',\n",
       " 'Attr54',\n",
       " 'Attr56',\n",
       " 'Attr58',\n",
       " 'Attr60',\n",
       " 'Attr61',\n",
       " 'Attr62',\n",
       " 'Attr63',\n",
       " 'Attr64']"
      ]
     },
     "execution_count": 14,
     "metadata": {},
     "output_type": "execute_result"
    }
   ],
   "source": [
    "cate_feat"
   ]
  },
  {
   "cell_type": "raw",
   "metadata": {},
   "source": [
    "These are features with object data type"
   ]
  },
  {
   "cell_type": "code",
   "execution_count": null,
   "metadata": {},
   "outputs": [],
   "source": []
  },
  {
   "cell_type": "markdown",
   "metadata": {},
   "source": [
    "### After doing some study on the data, it has been observed that in some of the records there are \"?\" in the above cateforical features.\n",
    "\n",
    "\n",
    "### So will be replacing '?' with Null values"
   ]
  },
  {
   "cell_type": "code",
   "execution_count": 15,
   "metadata": {},
   "outputs": [],
   "source": [
    "data.replace('?',np.NaN,inplace=True)"
   ]
  },
  {
   "cell_type": "code",
   "execution_count": 16,
   "metadata": {},
   "outputs": [
    {
     "data": {
      "text/plain": [
       "Attr37    4736\n",
       "Attr21     807\n",
       "Attr27     715\n",
       "Attr60     592\n",
       "Attr45     591\n",
       "          ... \n",
       "Attr29       0\n",
       "Attr1        0\n",
       "Attr35       0\n",
       "Attr36       0\n",
       "class        0\n",
       "Length: 66, dtype: int64"
      ]
     },
     "execution_count": 16,
     "metadata": {},
     "output_type": "execute_result"
    }
   ],
   "source": [
    "#checing the null values again\n",
    "data.isnull().sum().sort_values(ascending=False)"
   ]
  },
  {
   "cell_type": "code",
   "execution_count": 17,
   "metadata": {},
   "outputs": [
    {
     "name": "stdout",
     "output_type": "stream",
     "text": [
      "Out of 66 features, 44 features have missing values\n"
     ]
    }
   ],
   "source": [
    "# number of features which have null values\n",
    "nan_feat=[i for i in data.columns if data[i].isnull().any()]\n",
    "print('Out of 66 features, {} features have missing values'.format(len(nan_feat)))"
   ]
  },
  {
   "cell_type": "code",
   "execution_count": null,
   "metadata": {},
   "outputs": [],
   "source": []
  },
  {
   "cell_type": "code",
   "execution_count": null,
   "metadata": {},
   "outputs": [],
   "source": []
  },
  {
   "cell_type": "markdown",
   "metadata": {},
   "source": [
    "### Converting all the categorical features into numerical "
   ]
  },
  {
   "cell_type": "code",
   "execution_count": 18,
   "metadata": {},
   "outputs": [],
   "source": [
    "data.loc[:,categorical_feat]=data.loc[:,categorical_feat].astype('float')\n"
   ]
  },
  {
   "cell_type": "markdown",
   "metadata": {},
   "source": [
    "### Checking for outliers"
   ]
  },
  {
   "cell_type": "code",
   "execution_count": 19,
   "metadata": {},
   "outputs": [
    {
     "name": "stdout",
     "output_type": "stream",
     "text": [
      "Feature name :  Attr1\n",
      " % of Outliers in Attr1--->12.053698943159096\n",
      "Feature name :  Attr2\n",
      " % of Outliers in Attr2--->2.7611158716557176\n",
      "Feature name :  Attr3\n",
      " % of Outliers in Attr3--->2.580215176616205\n",
      "Feature name :  Attr4\n",
      " % of Outliers in Attr4--->10.59697229363039\n",
      "Feature name :  Attr5\n",
      " % of Outliers in Attr5--->14.87194135009045\n",
      "Feature name :  Attr6\n",
      " % of Outliers in Attr6--->30.181852803960773\n",
      "Feature name :  Attr7\n",
      " % of Outliers in Attr7--->10.844520613158146\n",
      "Feature name :  Attr8\n",
      " % of Outliers in Attr8--->10.911168237646386\n",
      "Feature name :  Attr9\n",
      " % of Outliers in Attr9--->6.912310768351899\n",
      "Feature name :  Attr10\n",
      " % of Outliers in Attr10--->2.903932209844806\n",
      "Feature name :  Attr11\n",
      " % of Outliers in Attr11--->9.635342283157193\n",
      "Feature name :  Attr12\n",
      " % of Outliers in Attr12--->14.433971246310579\n",
      "Feature name :  Attr13\n",
      " % of Outliers in Attr13--->10.473198133866514\n",
      "Feature name :  Attr14\n",
      " % of Outliers in Attr14--->10.844520613158146\n",
      "Feature name :  Attr15\n",
      " % of Outliers in Attr15--->17.128439493478055\n",
      "Feature name :  Attr16\n",
      " % of Outliers in Attr16--->12.81538608016757\n",
      "Feature name :  Attr17\n",
      " % of Outliers in Attr17--->10.882604970008568\n",
      "Feature name :  Attr18\n",
      " % of Outliers in Attr18--->10.85404170237075\n",
      "Feature name :  Attr19\n",
      " % of Outliers in Attr19--->13.491383414262593\n",
      "Feature name :  Attr20\n",
      " % of Outliers in Attr20--->6.103018185280396\n",
      "Feature name :  Attr21\n",
      " % of Outliers in Attr21--->5.5412739217366465\n",
      "Feature name :  Attr22\n",
      " % of Outliers in Attr22--->9.140245644101686\n",
      "Feature name :  Attr23\n",
      " % of Outliers in Attr23--->14.462534513948397\n",
      "Feature name :  Attr24\n",
      " % of Outliers in Attr24--->7.493097210320861\n",
      "Feature name :  Attr25\n",
      " % of Outliers in Attr25--->3.798914595829763\n",
      "Feature name :  Attr26\n",
      " % of Outliers in Attr26--->13.034371132057506\n",
      "Feature name :  Attr27\n",
      " % of Outliers in Attr27--->20.54651052080358\n",
      "Feature name :  Attr28\n",
      " % of Outliers in Attr28--->14.005522231743312\n",
      "Feature name :  Attr29\n",
      " % of Outliers in Attr29--->1.6185851661430068\n",
      "Feature name :  Attr30\n",
      " % of Outliers in Attr30--->8.826049700085688\n",
      "Feature name :  Attr31\n",
      " % of Outliers in Attr31--->12.967723507569264\n",
      "Feature name :  Attr32\n",
      " % of Outliers in Attr32--->7.569265924021708\n",
      "Feature name :  Attr33\n",
      " % of Outliers in Attr33--->8.026278206226792\n",
      "Feature name :  Attr34\n",
      " % of Outliers in Attr34--->7.959630581738551\n",
      "Feature name :  Attr35\n",
      " % of Outliers in Attr35--->10.092354565362276\n",
      "Feature name :  Attr36\n",
      " % of Outliers in Attr36--->5.236599066933257\n",
      "Feature name :  Attr37\n",
      " % of Outliers in Attr37--->8.140531276778065\n",
      "Feature name :  Attr38\n",
      " % of Outliers in Attr38--->3.0943539940969247\n",
      "Feature name :  Attr39\n",
      " % of Outliers in Attr39--->12.015614586308674\n",
      "Feature name :  Attr40\n",
      " % of Outliers in Attr40--->12.253641816623821\n",
      "Feature name :  Attr41\n",
      " % of Outliers in Attr41--->16.918975530800722\n",
      "Feature name :  Attr42\n",
      " % of Outliers in Attr42--->10.635056650480815\n",
      "Feature name :  Attr43\n",
      " % of Outliers in Attr43--->5.67456917071313\n",
      "Feature name :  Attr44\n",
      " % of Outliers in Attr44--->5.646005903075311\n",
      "Feature name :  Attr45\n",
      " % of Outliers in Attr45--->16.73807483576121\n",
      "Feature name :  Attr46\n",
      " % of Outliers in Attr46--->10.806436256307721\n",
      "Feature name :  Attr47\n",
      " % of Outliers in Attr47--->6.445777396934209\n",
      "Feature name :  Attr48\n",
      " % of Outliers in Attr48--->11.244406360087595\n",
      "Feature name :  Attr49\n",
      " % of Outliers in Attr49--->12.91059697229363\n",
      "Feature name :  Attr50\n",
      " % of Outliers in Attr50--->10.796915167095115\n",
      "Feature name :  Attr51\n",
      " % of Outliers in Attr51--->3.161001618585166\n",
      "Feature name :  Attr52\n",
      " % of Outliers in Attr52--->7.58830810244692\n",
      "Feature name :  Attr53\n",
      " % of Outliers in Attr53--->13.748452823002951\n",
      "Feature name :  Attr54\n",
      " % of Outliers in Attr54--->14.224507283633248\n",
      "Feature name :  Attr55\n",
      " % of Outliers in Attr55--->17.099876225840234\n",
      "Feature name :  Attr56\n",
      " % of Outliers in Attr56--->12.339331619537274\n",
      "Feature name :  Attr57\n",
      " % of Outliers in Attr57--->13.719889555365134\n",
      "Feature name :  Attr58\n",
      " % of Outliers in Attr58--->12.348852708749881\n",
      "Feature name :  Attr59\n",
      " % of Outliers in Attr59--->16.052556412453583\n",
      "Feature name :  Attr60\n",
      " % of Outliers in Attr60--->11.215843092449775\n",
      "Feature name :  Attr61\n",
      " % of Outliers in Attr61--->9.54965248024374\n",
      "Feature name :  Attr62\n",
      " % of Outliers in Attr62--->7.512139388746072\n",
      "Feature name :  Attr63\n",
      " % of Outliers in Attr63--->8.426163953156241\n",
      "Feature name :  Attr64\n",
      " % of Outliers in Attr64--->12.920118061506237\n"
     ]
    }
   ],
   "source": [
    "c=0\n",
    "for i in data.iloc[:,1:-1]:\n",
    "    iqr = data[i].quantile(0.75)-data[i].quantile(0.25)\n",
    "    lower_range = data[i].quantile(0.25)-(iqr*1.5)\n",
    "    upper_range = data[i].quantile(0.75)+(iqr*1.5)\n",
    "    print('Feature name : ',i)\n",
    "    out=data.loc[data.loc[:,i] < lower_range,i].count() + data.loc[data.loc[:,i]> upper_range,i].count()\n",
    "    if out > 0:\n",
    "      c+=1\n",
    "    print(' % of Outliers in {v}--->{x}'.format(v=i,x=out/len(data)*100))"
   ]
  },
  {
   "cell_type": "code",
   "execution_count": 20,
   "metadata": {},
   "outputs": [
    {
     "name": "stdout",
     "output_type": "stream",
     "text": [
      "There are outliers in 64 features out of 65 independent features.\n"
     ]
    }
   ],
   "source": [
    "print('There are outliers in',c,'features out of',data.shape[1]-1, \"independent features.\")"
   ]
  },
  {
   "cell_type": "code",
   "execution_count": null,
   "metadata": {},
   "outputs": [],
   "source": []
  },
  {
   "cell_type": "markdown",
   "metadata": {},
   "source": [
    "### Outliers treatment "
   ]
  },
  {
   "cell_type": "markdown",
   "metadata": {},
   "source": [
    "### Now we replacing outliers with the extreme values "
   ]
  },
  {
   "cell_type": "code",
   "execution_count": 21,
   "metadata": {},
   "outputs": [],
   "source": [
    "# outlier treatment\n",
    "for i in data.iloc[:,1:-1]:\n",
    "  iqr = data[i].quantile(0.75)-data[i].quantile(0.25)\n",
    "  lower_range = data[i].quantile(0.25)-(iqr*1.5)\n",
    "  upper_range = data[i].quantile(0.75)+(iqr*1.5)\n",
    "  data.loc[data[i]>=upper_range,i]=upper_range\n",
    "  data.loc[data[i]<=lower_range,i]=lower_range"
   ]
  },
  {
   "cell_type": "code",
   "execution_count": null,
   "metadata": {},
   "outputs": [],
   "source": []
  },
  {
   "cell_type": "markdown",
   "metadata": {},
   "source": [
    "### After treatment again checking the outliers "
   ]
  },
  {
   "cell_type": "code",
   "execution_count": 22,
   "metadata": {},
   "outputs": [
    {
     "name": "stdout",
     "output_type": "stream",
     "text": [
      "Feature name :  Attr1\n",
      " % of Outliers in Attr1--->0.0\n",
      "Feature name :  Attr2\n",
      " % of Outliers in Attr2--->0.0\n",
      "Feature name :  Attr3\n",
      " % of Outliers in Attr3--->0.0\n",
      "Feature name :  Attr4\n",
      " % of Outliers in Attr4--->0.0\n",
      "Feature name :  Attr5\n",
      " % of Outliers in Attr5--->0.0\n",
      "Feature name :  Attr6\n",
      " % of Outliers in Attr6--->0.0\n",
      "Feature name :  Attr7\n",
      " % of Outliers in Attr7--->0.0\n",
      "Feature name :  Attr8\n",
      " % of Outliers in Attr8--->0.0\n",
      "Feature name :  Attr9\n",
      " % of Outliers in Attr9--->0.0\n",
      "Feature name :  Attr10\n",
      " % of Outliers in Attr10--->0.0\n",
      "Feature name :  Attr11\n",
      " % of Outliers in Attr11--->0.0\n",
      "Feature name :  Attr12\n",
      " % of Outliers in Attr12--->0.0\n",
      "Feature name :  Attr13\n",
      " % of Outliers in Attr13--->0.0\n",
      "Feature name :  Attr14\n",
      " % of Outliers in Attr14--->0.0\n",
      "Feature name :  Attr15\n",
      " % of Outliers in Attr15--->0.0\n",
      "Feature name :  Attr16\n",
      " % of Outliers in Attr16--->0.0\n",
      "Feature name :  Attr17\n",
      " % of Outliers in Attr17--->0.0\n",
      "Feature name :  Attr18\n",
      " % of Outliers in Attr18--->0.0\n",
      "Feature name :  Attr19\n",
      " % of Outliers in Attr19--->0.0\n",
      "Feature name :  Attr20\n",
      " % of Outliers in Attr20--->0.0\n",
      "Feature name :  Attr21\n",
      " % of Outliers in Attr21--->0.0\n",
      "Feature name :  Attr22\n",
      " % of Outliers in Attr22--->0.0\n",
      "Feature name :  Attr23\n",
      " % of Outliers in Attr23--->0.0\n",
      "Feature name :  Attr24\n",
      " % of Outliers in Attr24--->0.0\n",
      "Feature name :  Attr25\n",
      " % of Outliers in Attr25--->0.0\n",
      "Feature name :  Attr26\n",
      " % of Outliers in Attr26--->0.0\n",
      "Feature name :  Attr27\n",
      " % of Outliers in Attr27--->0.0\n",
      "Feature name :  Attr28\n",
      " % of Outliers in Attr28--->0.0\n",
      "Feature name :  Attr29\n",
      " % of Outliers in Attr29--->0.0\n",
      "Feature name :  Attr30\n",
      " % of Outliers in Attr30--->0.0\n",
      "Feature name :  Attr31\n",
      " % of Outliers in Attr31--->0.0\n",
      "Feature name :  Attr32\n",
      " % of Outliers in Attr32--->0.0\n",
      "Feature name :  Attr33\n",
      " % of Outliers in Attr33--->0.0\n",
      "Feature name :  Attr34\n",
      " % of Outliers in Attr34--->0.0\n",
      "Feature name :  Attr35\n",
      " % of Outliers in Attr35--->0.0\n",
      "Feature name :  Attr36\n",
      " % of Outliers in Attr36--->0.0\n",
      "Feature name :  Attr37\n",
      " % of Outliers in Attr37--->0.0\n",
      "Feature name :  Attr38\n",
      " % of Outliers in Attr38--->0.0\n",
      "Feature name :  Attr39\n",
      " % of Outliers in Attr39--->0.0\n",
      "Feature name :  Attr40\n",
      " % of Outliers in Attr40--->0.0\n",
      "Feature name :  Attr41\n",
      " % of Outliers in Attr41--->0.0\n",
      "Feature name :  Attr42\n",
      " % of Outliers in Attr42--->0.0\n",
      "Feature name :  Attr43\n",
      " % of Outliers in Attr43--->0.0\n",
      "Feature name :  Attr44\n",
      " % of Outliers in Attr44--->0.0\n",
      "Feature name :  Attr45\n",
      " % of Outliers in Attr45--->0.0\n",
      "Feature name :  Attr46\n",
      " % of Outliers in Attr46--->0.0\n",
      "Feature name :  Attr47\n",
      " % of Outliers in Attr47--->0.0\n",
      "Feature name :  Attr48\n",
      " % of Outliers in Attr48--->0.0\n",
      "Feature name :  Attr49\n",
      " % of Outliers in Attr49--->0.0\n",
      "Feature name :  Attr50\n",
      " % of Outliers in Attr50--->0.0\n",
      "Feature name :  Attr51\n",
      " % of Outliers in Attr51--->0.0\n",
      "Feature name :  Attr52\n",
      " % of Outliers in Attr52--->0.0\n",
      "Feature name :  Attr53\n",
      " % of Outliers in Attr53--->0.0\n",
      "Feature name :  Attr54\n",
      " % of Outliers in Attr54--->0.0\n",
      "Feature name :  Attr55\n",
      " % of Outliers in Attr55--->0.0\n",
      "Feature name :  Attr56\n",
      " % of Outliers in Attr56--->0.0\n",
      "Feature name :  Attr57\n",
      " % of Outliers in Attr57--->0.0\n",
      "Feature name :  Attr58\n",
      " % of Outliers in Attr58--->0.0\n",
      "Feature name :  Attr59\n",
      " % of Outliers in Attr59--->0.0\n",
      "Feature name :  Attr60\n",
      " % of Outliers in Attr60--->0.0\n",
      "Feature name :  Attr61\n",
      " % of Outliers in Attr61--->0.0\n",
      "Feature name :  Attr62\n",
      " % of Outliers in Attr62--->0.0\n",
      "Feature name :  Attr63\n",
      " % of Outliers in Attr63--->0.0\n",
      "Feature name :  Attr64\n",
      " % of Outliers in Attr64--->0.0\n"
     ]
    }
   ],
   "source": [
    "c1=0\n",
    "for i in data.iloc[:,1:-1]:\n",
    "    iqr = data[i].quantile(0.75)-data[i].quantile(0.25)\n",
    "    lower_range = data[i].quantile(0.25)-(iqr*1.5)\n",
    "    upper_range = data[i].quantile(0.75)+(iqr*1.5)\n",
    "    print('Feature name : ',i)\n",
    "    out=data.loc[data.loc[:,i] < lower_range,i].count() + data.loc[data.loc[:,i]> upper_range,i].count()\n",
    "    if out > 0:\n",
    "      c1+=1\n",
    "    print(' % of Outliers in {v}--->{x}'.format(v=i,x=out/len(data)*100))"
   ]
  },
  {
   "cell_type": "code",
   "execution_count": 23,
   "metadata": {},
   "outputs": [
    {
     "name": "stdout",
     "output_type": "stream",
     "text": [
      "There are outliers in 0 features out of 65 independent features.\n"
     ]
    }
   ],
   "source": [
    "print('There are outliers in',c1,'features out of',data.shape[1]-1, \"independent features.\")"
   ]
  },
  {
   "cell_type": "code",
   "execution_count": null,
   "metadata": {},
   "outputs": [],
   "source": []
  },
  {
   "cell_type": "markdown",
   "metadata": {},
   "source": [
    "### Missing value treatment\n",
    "\n",
    "#### Replacing the missing values with mean values of that features"
   ]
  },
  {
   "cell_type": "code",
   "execution_count": 24,
   "metadata": {},
   "outputs": [],
   "source": [
    "data.fillna(data.mean(),inplace=True)"
   ]
  },
  {
   "cell_type": "code",
   "execution_count": 25,
   "metadata": {},
   "outputs": [
    {
     "data": {
      "text/plain": [
       "id        0\n",
       "Attr49    0\n",
       "Attr35    0\n",
       "Attr36    0\n",
       "Attr37    0\n",
       "         ..\n",
       "Attr27    0\n",
       "Attr28    0\n",
       "Attr29    0\n",
       "Attr30    0\n",
       "class     0\n",
       "Length: 66, dtype: int64"
      ]
     },
     "execution_count": 25,
     "metadata": {},
     "output_type": "execute_result"
    }
   ],
   "source": [
    "data.isnull().sum().sort_values(ascending=False)"
   ]
  },
  {
   "cell_type": "code",
   "execution_count": 26,
   "metadata": {},
   "outputs": [],
   "source": [
    "data1=data.copy()"
   ]
  },
  {
   "cell_type": "code",
   "execution_count": null,
   "metadata": {},
   "outputs": [],
   "source": []
  },
  {
   "cell_type": "markdown",
   "metadata": {},
   "source": [
    "# For both PCA and Factor analysis, data should be standardize"
   ]
  },
  {
   "cell_type": "markdown",
   "metadata": {},
   "source": [
    "### standardizing the data "
   ]
  },
  {
   "cell_type": "code",
   "execution_count": 27,
   "metadata": {},
   "outputs": [],
   "source": [
    "from sklearn.preprocessing import StandardScaler\n",
    "stan_sca =  StandardScaler()\n",
    "data_new = stan_sca.fit_transform(data.iloc[:,:-1])\n",
    "data_new = pd.DataFrame(data=data_new,columns=data.iloc[:,:-1].columns)"
   ]
  },
  {
   "cell_type": "code",
   "execution_count": 28,
   "metadata": {},
   "outputs": [],
   "source": [
    "data_1=pd.concat([data_new,data['class']],axis=1)"
   ]
  },
  {
   "cell_type": "code",
   "execution_count": 29,
   "metadata": {},
   "outputs": [
    {
     "data": {
      "text/html": [
       "<div>\n",
       "<style scoped>\n",
       "    .dataframe tbody tr th:only-of-type {\n",
       "        vertical-align: middle;\n",
       "    }\n",
       "\n",
       "    .dataframe tbody tr th {\n",
       "        vertical-align: top;\n",
       "    }\n",
       "\n",
       "    .dataframe thead th {\n",
       "        text-align: right;\n",
       "    }\n",
       "</style>\n",
       "<table border=\"1\" class=\"dataframe\">\n",
       "  <thead>\n",
       "    <tr style=\"text-align: right;\">\n",
       "      <th></th>\n",
       "      <th>id</th>\n",
       "      <th>Attr1</th>\n",
       "      <th>Attr2</th>\n",
       "      <th>Attr3</th>\n",
       "      <th>Attr4</th>\n",
       "      <th>Attr5</th>\n",
       "      <th>Attr6</th>\n",
       "      <th>Attr7</th>\n",
       "      <th>Attr8</th>\n",
       "      <th>Attr9</th>\n",
       "      <th>...</th>\n",
       "      <th>Attr56</th>\n",
       "      <th>Attr57</th>\n",
       "      <th>Attr58</th>\n",
       "      <th>Attr59</th>\n",
       "      <th>Attr60</th>\n",
       "      <th>Attr61</th>\n",
       "      <th>Attr62</th>\n",
       "      <th>Attr63</th>\n",
       "      <th>Attr64</th>\n",
       "      <th>class</th>\n",
       "    </tr>\n",
       "  </thead>\n",
       "  <tbody>\n",
       "    <tr>\n",
       "      <th>0</th>\n",
       "      <td>-1.731886</td>\n",
       "      <td>0.974114</td>\n",
       "      <td>-0.270470</td>\n",
       "      <td>-0.201416</td>\n",
       "      <td>-0.535034</td>\n",
       "      <td>-0.292674</td>\n",
       "      <td>1.727951</td>\n",
       "      <td>1.123344</td>\n",
       "      <td>-0.399860</td>\n",
       "      <td>-0.430442</td>\n",
       "      <td>...</td>\n",
       "      <td>0.782863</td>\n",
       "      <td>0.911875</td>\n",
       "      <td>-0.845174</td>\n",
       "      <td>-0.593332</td>\n",
       "      <td>-0.436740</td>\n",
       "      <td>-0.374138</td>\n",
       "      <td>-0.064256</td>\n",
       "      <td>-0.476039</td>\n",
       "      <td>-0.439327</td>\n",
       "      <td>0</td>\n",
       "    </tr>\n",
       "    <tr>\n",
       "      <th>1</th>\n",
       "      <td>-1.731556</td>\n",
       "      <td>0.745216</td>\n",
       "      <td>-0.115641</td>\n",
       "      <td>0.238152</td>\n",
       "      <td>-0.367583</td>\n",
       "      <td>-0.002805</td>\n",
       "      <td>-0.269833</td>\n",
       "      <td>0.774843</td>\n",
       "      <td>-0.376385</td>\n",
       "      <td>0.018942</td>\n",
       "      <td>...</td>\n",
       "      <td>-0.328611</td>\n",
       "      <td>0.513410</td>\n",
       "      <td>-0.295154</td>\n",
       "      <td>-0.593360</td>\n",
       "      <td>-0.719078</td>\n",
       "      <td>-0.786688</td>\n",
       "      <td>0.219190</td>\n",
       "      <td>-0.632084</td>\n",
       "      <td>-0.157401</td>\n",
       "      <td>0</td>\n",
       "    </tr>\n",
       "    <tr>\n",
       "      <th>2</th>\n",
       "      <td>-1.731226</td>\n",
       "      <td>-0.447553</td>\n",
       "      <td>-0.880996</td>\n",
       "      <td>0.891813</td>\n",
       "      <td>0.543163</td>\n",
       "      <td>0.752489</td>\n",
       "      <td>1.727951</td>\n",
       "      <td>-0.449618</td>\n",
       "      <td>0.483097</td>\n",
       "      <td>-0.639128</td>\n",
       "      <td>...</td>\n",
       "      <td>-0.490532</td>\n",
       "      <td>-0.514212</td>\n",
       "      <td>0.476770</td>\n",
       "      <td>-0.593360</td>\n",
       "      <td>-0.659524</td>\n",
       "      <td>-0.847135</td>\n",
       "      <td>-0.372185</td>\n",
       "      <td>-0.208992</td>\n",
       "      <td>-0.376935</td>\n",
       "      <td>0</td>\n",
       "    </tr>\n",
       "    <tr>\n",
       "      <th>3</th>\n",
       "      <td>-1.730896</td>\n",
       "      <td>-0.251570</td>\n",
       "      <td>-0.207186</td>\n",
       "      <td>0.216458</td>\n",
       "      <td>-0.276002</td>\n",
       "      <td>-0.119389</td>\n",
       "      <td>1.727951</td>\n",
       "      <td>-0.303555</td>\n",
       "      <td>-0.313154</td>\n",
       "      <td>-0.591276</td>\n",
       "      <td>...</td>\n",
       "      <td>-0.158506</td>\n",
       "      <td>-0.352285</td>\n",
       "      <td>0.132077</td>\n",
       "      <td>0.015944</td>\n",
       "      <td>-0.852401</td>\n",
       "      <td>-0.607587</td>\n",
       "      <td>0.165237</td>\n",
       "      <td>-0.606704</td>\n",
       "      <td>-0.520216</td>\n",
       "      <td>0</td>\n",
       "    </tr>\n",
       "    <tr>\n",
       "      <th>4</th>\n",
       "      <td>-1.730567</td>\n",
       "      <td>1.089587</td>\n",
       "      <td>-0.263772</td>\n",
       "      <td>0.428488</td>\n",
       "      <td>-0.189956</td>\n",
       "      <td>-0.561566</td>\n",
       "      <td>-0.269833</td>\n",
       "      <td>1.226701</td>\n",
       "      <td>-0.264075</td>\n",
       "      <td>-0.271823</td>\n",
       "      <td>...</td>\n",
       "      <td>0.884851</td>\n",
       "      <td>0.706974</td>\n",
       "      <td>-0.927119</td>\n",
       "      <td>-0.282107</td>\n",
       "      <td>-0.976465</td>\n",
       "      <td>-0.223199</td>\n",
       "      <td>0.193060</td>\n",
       "      <td>-0.620011</td>\n",
       "      <td>-0.350536</td>\n",
       "      <td>0</td>\n",
       "    </tr>\n",
       "  </tbody>\n",
       "</table>\n",
       "<p>5 rows × 66 columns</p>\n",
       "</div>"
      ],
      "text/plain": [
       "         id     Attr1     Attr2     Attr3     Attr4     Attr5     Attr6  \\\n",
       "0 -1.731886  0.974114 -0.270470 -0.201416 -0.535034 -0.292674  1.727951   \n",
       "1 -1.731556  0.745216 -0.115641  0.238152 -0.367583 -0.002805 -0.269833   \n",
       "2 -1.731226 -0.447553 -0.880996  0.891813  0.543163  0.752489  1.727951   \n",
       "3 -1.730896 -0.251570 -0.207186  0.216458 -0.276002 -0.119389  1.727951   \n",
       "4 -1.730567  1.089587 -0.263772  0.428488 -0.189956 -0.561566 -0.269833   \n",
       "\n",
       "      Attr7     Attr8     Attr9  ...    Attr56    Attr57    Attr58    Attr59  \\\n",
       "0  1.123344 -0.399860 -0.430442  ...  0.782863  0.911875 -0.845174 -0.593332   \n",
       "1  0.774843 -0.376385  0.018942  ... -0.328611  0.513410 -0.295154 -0.593360   \n",
       "2 -0.449618  0.483097 -0.639128  ... -0.490532 -0.514212  0.476770 -0.593360   \n",
       "3 -0.303555 -0.313154 -0.591276  ... -0.158506 -0.352285  0.132077  0.015944   \n",
       "4  1.226701 -0.264075 -0.271823  ...  0.884851  0.706974 -0.927119 -0.282107   \n",
       "\n",
       "     Attr60    Attr61    Attr62    Attr63    Attr64  class  \n",
       "0 -0.436740 -0.374138 -0.064256 -0.476039 -0.439327      0  \n",
       "1 -0.719078 -0.786688  0.219190 -0.632084 -0.157401      0  \n",
       "2 -0.659524 -0.847135 -0.372185 -0.208992 -0.376935      0  \n",
       "3 -0.852401 -0.607587  0.165237 -0.606704 -0.520216      0  \n",
       "4 -0.976465 -0.223199  0.193060 -0.620011 -0.350536      0  \n",
       "\n",
       "[5 rows x 66 columns]"
      ]
     },
     "execution_count": 29,
     "metadata": {},
     "output_type": "execute_result"
    }
   ],
   "source": [
    "data_1.head()"
   ]
  },
  {
   "cell_type": "code",
   "execution_count": null,
   "metadata": {},
   "outputs": [],
   "source": []
  },
  {
   "cell_type": "markdown",
   "metadata": {},
   "source": [
    "### Droping irrelvant features "
   ]
  },
  {
   "cell_type": "code",
   "execution_count": 30,
   "metadata": {},
   "outputs": [],
   "source": [
    "data_1.drop('id',inplace=True,axis=1)"
   ]
  },
  {
   "cell_type": "code",
   "execution_count": 31,
   "metadata": {},
   "outputs": [
    {
     "data": {
      "text/html": [
       "<div>\n",
       "<style scoped>\n",
       "    .dataframe tbody tr th:only-of-type {\n",
       "        vertical-align: middle;\n",
       "    }\n",
       "\n",
       "    .dataframe tbody tr th {\n",
       "        vertical-align: top;\n",
       "    }\n",
       "\n",
       "    .dataframe thead th {\n",
       "        text-align: right;\n",
       "    }\n",
       "</style>\n",
       "<table border=\"1\" class=\"dataframe\">\n",
       "  <thead>\n",
       "    <tr style=\"text-align: right;\">\n",
       "      <th></th>\n",
       "      <th>Attr1</th>\n",
       "      <th>Attr2</th>\n",
       "      <th>Attr3</th>\n",
       "      <th>Attr4</th>\n",
       "      <th>Attr5</th>\n",
       "      <th>Attr6</th>\n",
       "      <th>Attr7</th>\n",
       "      <th>Attr8</th>\n",
       "      <th>Attr9</th>\n",
       "      <th>Attr10</th>\n",
       "      <th>...</th>\n",
       "      <th>Attr56</th>\n",
       "      <th>Attr57</th>\n",
       "      <th>Attr58</th>\n",
       "      <th>Attr59</th>\n",
       "      <th>Attr60</th>\n",
       "      <th>Attr61</th>\n",
       "      <th>Attr62</th>\n",
       "      <th>Attr63</th>\n",
       "      <th>Attr64</th>\n",
       "      <th>class</th>\n",
       "    </tr>\n",
       "  </thead>\n",
       "  <tbody>\n",
       "    <tr>\n",
       "      <th>0</th>\n",
       "      <td>0.974114</td>\n",
       "      <td>-0.270470</td>\n",
       "      <td>-0.201416</td>\n",
       "      <td>-0.535034</td>\n",
       "      <td>-0.292674</td>\n",
       "      <td>1.727951</td>\n",
       "      <td>1.123344</td>\n",
       "      <td>-0.399860</td>\n",
       "      <td>-0.430442</td>\n",
       "      <td>-0.081455</td>\n",
       "      <td>...</td>\n",
       "      <td>0.782863</td>\n",
       "      <td>0.911875</td>\n",
       "      <td>-0.845174</td>\n",
       "      <td>-0.593332</td>\n",
       "      <td>-0.436740</td>\n",
       "      <td>-0.374138</td>\n",
       "      <td>-0.064256</td>\n",
       "      <td>-0.476039</td>\n",
       "      <td>-0.439327</td>\n",
       "      <td>0</td>\n",
       "    </tr>\n",
       "    <tr>\n",
       "      <th>1</th>\n",
       "      <td>0.745216</td>\n",
       "      <td>-0.115641</td>\n",
       "      <td>0.238152</td>\n",
       "      <td>-0.367583</td>\n",
       "      <td>-0.002805</td>\n",
       "      <td>-0.269833</td>\n",
       "      <td>0.774843</td>\n",
       "      <td>-0.376385</td>\n",
       "      <td>0.018942</td>\n",
       "      <td>0.167789</td>\n",
       "      <td>...</td>\n",
       "      <td>-0.328611</td>\n",
       "      <td>0.513410</td>\n",
       "      <td>-0.295154</td>\n",
       "      <td>-0.593360</td>\n",
       "      <td>-0.719078</td>\n",
       "      <td>-0.786688</td>\n",
       "      <td>0.219190</td>\n",
       "      <td>-0.632084</td>\n",
       "      <td>-0.157401</td>\n",
       "      <td>0</td>\n",
       "    </tr>\n",
       "    <tr>\n",
       "      <th>2</th>\n",
       "      <td>-0.447553</td>\n",
       "      <td>-0.880996</td>\n",
       "      <td>0.891813</td>\n",
       "      <td>0.543163</td>\n",
       "      <td>0.752489</td>\n",
       "      <td>1.727951</td>\n",
       "      <td>-0.449618</td>\n",
       "      <td>0.483097</td>\n",
       "      <td>-0.639128</td>\n",
       "      <td>0.613760</td>\n",
       "      <td>...</td>\n",
       "      <td>-0.490532</td>\n",
       "      <td>-0.514212</td>\n",
       "      <td>0.476770</td>\n",
       "      <td>-0.593360</td>\n",
       "      <td>-0.659524</td>\n",
       "      <td>-0.847135</td>\n",
       "      <td>-0.372185</td>\n",
       "      <td>-0.208992</td>\n",
       "      <td>-0.376935</td>\n",
       "      <td>0</td>\n",
       "    </tr>\n",
       "    <tr>\n",
       "      <th>3</th>\n",
       "      <td>-0.251570</td>\n",
       "      <td>-0.207186</td>\n",
       "      <td>0.216458</td>\n",
       "      <td>-0.276002</td>\n",
       "      <td>-0.119389</td>\n",
       "      <td>1.727951</td>\n",
       "      <td>-0.303555</td>\n",
       "      <td>-0.313154</td>\n",
       "      <td>-0.591276</td>\n",
       "      <td>0.249450</td>\n",
       "      <td>...</td>\n",
       "      <td>-0.158506</td>\n",
       "      <td>-0.352285</td>\n",
       "      <td>0.132077</td>\n",
       "      <td>0.015944</td>\n",
       "      <td>-0.852401</td>\n",
       "      <td>-0.607587</td>\n",
       "      <td>0.165237</td>\n",
       "      <td>-0.606704</td>\n",
       "      <td>-0.520216</td>\n",
       "      <td>0</td>\n",
       "    </tr>\n",
       "    <tr>\n",
       "      <th>4</th>\n",
       "      <td>1.089587</td>\n",
       "      <td>-0.263772</td>\n",
       "      <td>0.428488</td>\n",
       "      <td>-0.189956</td>\n",
       "      <td>-0.561566</td>\n",
       "      <td>-0.269833</td>\n",
       "      <td>1.226701</td>\n",
       "      <td>-0.264075</td>\n",
       "      <td>-0.271823</td>\n",
       "      <td>0.316424</td>\n",
       "      <td>...</td>\n",
       "      <td>0.884851</td>\n",
       "      <td>0.706974</td>\n",
       "      <td>-0.927119</td>\n",
       "      <td>-0.282107</td>\n",
       "      <td>-0.976465</td>\n",
       "      <td>-0.223199</td>\n",
       "      <td>0.193060</td>\n",
       "      <td>-0.620011</td>\n",
       "      <td>-0.350536</td>\n",
       "      <td>0</td>\n",
       "    </tr>\n",
       "  </tbody>\n",
       "</table>\n",
       "<p>5 rows × 65 columns</p>\n",
       "</div>"
      ],
      "text/plain": [
       "      Attr1     Attr2     Attr3     Attr4     Attr5     Attr6     Attr7  \\\n",
       "0  0.974114 -0.270470 -0.201416 -0.535034 -0.292674  1.727951  1.123344   \n",
       "1  0.745216 -0.115641  0.238152 -0.367583 -0.002805 -0.269833  0.774843   \n",
       "2 -0.447553 -0.880996  0.891813  0.543163  0.752489  1.727951 -0.449618   \n",
       "3 -0.251570 -0.207186  0.216458 -0.276002 -0.119389  1.727951 -0.303555   \n",
       "4  1.089587 -0.263772  0.428488 -0.189956 -0.561566 -0.269833  1.226701   \n",
       "\n",
       "      Attr8     Attr9    Attr10  ...    Attr56    Attr57    Attr58    Attr59  \\\n",
       "0 -0.399860 -0.430442 -0.081455  ...  0.782863  0.911875 -0.845174 -0.593332   \n",
       "1 -0.376385  0.018942  0.167789  ... -0.328611  0.513410 -0.295154 -0.593360   \n",
       "2  0.483097 -0.639128  0.613760  ... -0.490532 -0.514212  0.476770 -0.593360   \n",
       "3 -0.313154 -0.591276  0.249450  ... -0.158506 -0.352285  0.132077  0.015944   \n",
       "4 -0.264075 -0.271823  0.316424  ...  0.884851  0.706974 -0.927119 -0.282107   \n",
       "\n",
       "     Attr60    Attr61    Attr62    Attr63    Attr64  class  \n",
       "0 -0.436740 -0.374138 -0.064256 -0.476039 -0.439327      0  \n",
       "1 -0.719078 -0.786688  0.219190 -0.632084 -0.157401      0  \n",
       "2 -0.659524 -0.847135 -0.372185 -0.208992 -0.376935      0  \n",
       "3 -0.852401 -0.607587  0.165237 -0.606704 -0.520216      0  \n",
       "4 -0.976465 -0.223199  0.193060 -0.620011 -0.350536      0  \n",
       "\n",
       "[5 rows x 65 columns]"
      ]
     },
     "execution_count": 31,
     "metadata": {},
     "output_type": "execute_result"
    }
   ],
   "source": [
    "data_1.head()"
   ]
  },
  {
   "cell_type": "code",
   "execution_count": null,
   "metadata": {},
   "outputs": [],
   "source": []
  },
  {
   "cell_type": "code",
   "execution_count": null,
   "metadata": {},
   "outputs": [],
   "source": []
  },
  {
   "cell_type": "markdown",
   "metadata": {},
   "source": [
    "# Factor Analysis "
   ]
  },
  {
   "cell_type": "code",
   "execution_count": 32,
   "metadata": {},
   "outputs": [],
   "source": [
    "#!pip install factor_analyzer\n",
    "from factor_analyzer import FactorAnalyzer"
   ]
  },
  {
   "cell_type": "code",
   "execution_count": null,
   "metadata": {},
   "outputs": [],
   "source": []
  },
  {
   "cell_type": "markdown",
   "metadata": {},
   "source": [
    "#### Before applying factor analysis we have to whether the correlation is present in the data"
   ]
  },
  {
   "cell_type": "markdown",
   "metadata": {},
   "source": [
    "### Bartlett’s test\n",
    "### Ho: There is no correlation present among the features\n",
    "### H1: There is correlation present among the features"
   ]
  },
  {
   "cell_type": "code",
   "execution_count": null,
   "metadata": {},
   "outputs": [],
   "source": []
  },
  {
   "cell_type": "code",
   "execution_count": 33,
   "metadata": {},
   "outputs": [
    {
     "name": "stdout",
     "output_type": "stream",
     "text": [
      "p value :  0.0\n"
     ]
    }
   ],
   "source": [
    "from factor_analyzer.factor_analyzer import calculate_bartlett_sphericity\n",
    "chi_square_value,p_value=calculate_bartlett_sphericity(data_1)\n",
    "\n",
    "print(\"p value : \",p_value)"
   ]
  },
  {
   "cell_type": "markdown",
   "metadata": {},
   "source": [
    "#### Here p value is less than 0.05, then we reject the null hypothesis and conclude that correlation is present among the features "
   ]
  },
  {
   "cell_type": "code",
   "execution_count": null,
   "metadata": {},
   "outputs": [],
   "source": []
  },
  {
   "cell_type": "markdown",
   "metadata": {},
   "source": [
    "### Choosing the optimum number of Factors"
   ]
  },
  {
   "cell_type": "code",
   "execution_count": 34,
   "metadata": {},
   "outputs": [],
   "source": [
    "fa = FactorAnalyzer()\n",
    "fa.fit(data_1)\n",
    "eigen_values, vectors = fa.get_eigenvalues()"
   ]
  },
  {
   "cell_type": "code",
   "execution_count": 35,
   "metadata": {},
   "outputs": [
    {
     "data": {
      "text/plain": [
       "array([23.34663178,  9.45186527,  6.0781783 ,  3.66900358,  2.29205363,\n",
       "        2.14051184,  1.85044999,  1.41786144,  1.26761833,  1.11699229])"
      ]
     },
     "execution_count": 35,
     "metadata": {},
     "output_type": "execute_result"
    }
   ],
   "source": [
    "eigen_values[:10]"
   ]
  },
  {
   "cell_type": "code",
   "execution_count": null,
   "metadata": {},
   "outputs": [],
   "source": []
  },
  {
   "cell_type": "code",
   "execution_count": 36,
   "metadata": {},
   "outputs": [
    {
     "data": {
      "image/png": "[encoded data removed]",
      "text/plain": [
       "<Figure size 432x288 with 1 Axes>"
      ]
     },
     "metadata": {
      "needs_background": "light"
     },
     "output_type": "display_data"
    }
   ],
   "source": [
    "plt.scatter(range(1,data_1.shape[1]+1),eigen_values)\n",
    "plt.plot(range(1,data_1.shape[1]+1),eigen_values)\n",
    "plt.title('Scree Plot')\n",
    "plt.xlabel('Number of Factors')\n",
    "plt.ylabel('Eigenvalue')\n",
    "plt.grid()\n",
    "plt.show()"
   ]
  },
  {
   "cell_type": "code",
   "execution_count": 37,
   "metadata": {},
   "outputs": [
    {
     "name": "stdout",
     "output_type": "stream",
     "text": [
      "Optimum number of factors = 10\n"
     ]
    }
   ],
   "source": [
    "#electing the number of factors whose eigenvalues are greater than 1\n",
    "number_of_optimum_factors=0\n",
    "for i in eigen_values:\n",
    "    if i >=1:                  \n",
    "        number_of_optimum_factors+=1\n",
    "        \n",
    "print('Optimum number of factors =',number_of_optimum_factors)        "
   ]
  },
  {
   "cell_type": "markdown",
   "metadata": {},
   "source": [
    "# Optimum number of factors = 10"
   ]
  },
  {
   "cell_type": "code",
   "execution_count": null,
   "metadata": {},
   "outputs": [],
   "source": []
  },
  {
   "cell_type": "markdown",
   "metadata": {},
   "source": [
    "### Interpreting the factors"
   ]
  },
  {
   "cell_type": "code",
   "execution_count": null,
   "metadata": {},
   "outputs": [],
   "source": []
  },
  {
   "cell_type": "markdown",
   "metadata": {},
   "source": [
    "### Loadings \n",
    "##### It indicate how much a factor explains a features, it lie in between -1 to 1"
   ]
  },
  {
   "cell_type": "code",
   "execution_count": null,
   "metadata": {},
   "outputs": [],
   "source": []
  },
  {
   "cell_type": "code",
   "execution_count": 39,
   "metadata": {},
   "outputs": [
    {
     "name": "stdout",
     "output_type": "stream",
     "text": [
      "               0         1         2         3         4         5         6  \\\n",
      "Attr1   0.943038  0.131592  0.152686 -0.068646 -0.060863  0.055942 -0.034396   \n",
      "Attr2  -0.204388 -0.821417 -0.030916  0.030720 -0.041107 -0.231762 -0.144460   \n",
      "Attr3   0.205213  0.746771  0.524815  0.103330  0.148872  0.079121 -0.028249   \n",
      "Attr4   0.153901  0.898391  0.147977  0.102602  0.146449 -0.066600  0.049740   \n",
      "Attr5   0.178793  0.632772  0.221672  0.121225 -0.181676  0.091906  0.006220   \n",
      "...          ...       ...       ...       ...       ...       ...       ...   \n",
      "Attr61  0.013290  0.029204 -0.110515 -0.786318 -0.000819 -0.117965 -0.018195   \n",
      "Attr62 -0.232874 -0.677793 -0.248053  0.467331  0.222938 -0.173835  0.113262   \n",
      "Attr63  0.219558  0.742214  0.135072 -0.392013 -0.155296 -0.101733 -0.037988   \n",
      "Attr64  0.094132 -0.097088  0.791776 -0.157100 -0.103978 -0.170625  0.218122   \n",
      "class  -0.106785 -0.094323 -0.012205 -0.007956  0.019363 -0.072964  0.014788   \n",
      "\n",
      "               7         8         9  \n",
      "Attr1   0.011874 -0.111265  0.088372  \n",
      "Attr2  -0.012629 -0.028626 -0.402937  \n",
      "Attr3   0.008851  0.031734 -0.021803  \n",
      "Attr4   0.060344 -0.112552 -0.191949  \n",
      "Attr5   0.041463 -0.015337 -0.159012  \n",
      "...          ...       ...       ...  \n",
      "Attr61  0.013764 -0.029902  0.053299  \n",
      "Attr62  0.009699  0.003672  0.123985  \n",
      "Attr63 -0.023783 -0.147625 -0.130656  \n",
      "Attr64 -0.026540 -0.045933 -0.183439  \n",
      "class  -0.031542 -0.006646 -0.034448  \n",
      "\n",
      "[65 rows x 10 columns]\n"
     ]
    }
   ],
   "source": [
    "f_a = FactorAnalyzer(n_factors=number_of_optimum_factors,rotation='varimax')\n",
    "f_a.fit(data_1)\n",
    "print(pd.DataFrame(f_a.loadings_,index=data_1.columns))"
   ]
  },
  {
   "cell_type": "code",
   "execution_count": null,
   "metadata": {},
   "outputs": [],
   "source": []
  },
  {
   "cell_type": "markdown",
   "metadata": {},
   "source": [
    "### Variance \n",
    "\n",
    "###### From this we can find out  amount of variance explained by each factor."
   ]
  },
  {
   "cell_type": "code",
   "execution_count": null,
   "metadata": {},
   "outputs": [],
   "source": []
  },
  {
   "cell_type": "code",
   "execution_count": 40,
   "metadata": {},
   "outputs": [
    {
     "name": "stdout",
     "output_type": "stream",
     "text": [
      "                          0          1         2         3         4  \\\n",
      "Variance          17.314210  13.564675  4.133938  3.906470  3.584876   \n",
      "Proportional Var   0.266372   0.208687  0.063599  0.060100  0.055152   \n",
      "Cumulative Var     0.266372   0.475060  0.538659  0.598758  0.653910   \n",
      "\n",
      "                         5         6         7         8         9  \n",
      "Variance          2.110132  1.537800  1.504269  1.380346  1.112749  \n",
      "Proportional Var  0.032464  0.023658  0.023143  0.021236  0.017119  \n",
      "Cumulative Var    0.686374  0.710032  0.733175  0.754411  0.771530  \n"
     ]
    }
   ],
   "source": [
    "print(pd.DataFrame(f_a.get_factor_variance(),index=['Variance','Proportional Var','Cumulative Var']))"
   ]
  },
  {
   "cell_type": "markdown",
   "metadata": {},
   "source": [
    "### From this we can interpret that 10 factors can explain 77.15% of variance "
   ]
  },
  {
   "cell_type": "code",
   "execution_count": null,
   "metadata": {},
   "outputs": [],
   "source": []
  },
  {
   "cell_type": "markdown",
   "metadata": {},
   "source": [
    "### COMMUNALITIES \n",
    "\n",
    "##### From communalities we can find out each features’s variance that has been explaind by the factors"
   ]
  },
  {
   "cell_type": "code",
   "execution_count": null,
   "metadata": {},
   "outputs": [],
   "source": []
  },
  {
   "cell_type": "code",
   "execution_count": 41,
   "metadata": {},
   "outputs": [
    {
     "name": "stdout",
     "output_type": "stream",
     "text": [
      "        Communalities\n",
      "Attr1        0.963009\n",
      "Attr2        0.958009\n",
      "Attr3        0.916670\n",
      "Attr4        0.944726\n",
      "Attr5        0.564932\n",
      "...               ...\n",
      "Attr61       0.649710\n",
      "Attr62       0.901791\n",
      "Attr63       0.846346\n",
      "Attr64       0.793842\n",
      "class        0.028655\n",
      "\n",
      "[65 rows x 1 columns]\n"
     ]
    }
   ],
   "source": [
    "print(pd.DataFrame(f_a.get_communalities(),index=data_1.columns,columns=['Communalities']))"
   ]
  },
  {
   "cell_type": "markdown",
   "metadata": {},
   "source": [
    "### The proportion of each features’s variance that is explained by the factors can be inferred from the above. For example, we could consider the features ‘Attr1’ about 96.3% of its variance is explained by all the factors together."
   ]
  },
  {
   "cell_type": "code",
   "execution_count": null,
   "metadata": {},
   "outputs": [],
   "source": []
  },
  {
   "cell_type": "code",
   "execution_count": null,
   "metadata": {},
   "outputs": [],
   "source": []
  },
  {
   "cell_type": "markdown",
   "metadata": {},
   "source": [
    "# PCA "
   ]
  },
  {
   "cell_type": "code",
   "execution_count": null,
   "metadata": {},
   "outputs": [],
   "source": []
  },
  {
   "cell_type": "code",
   "execution_count": 42,
   "metadata": {},
   "outputs": [],
   "source": [
    "from sklearn.decomposition import PCA"
   ]
  },
  {
   "cell_type": "code",
   "execution_count": 43,
   "metadata": {},
   "outputs": [],
   "source": [
    "pca=PCA(n_components=30)"
   ]
  },
  {
   "cell_type": "code",
   "execution_count": 44,
   "metadata": {},
   "outputs": [
    {
     "data": {
      "text/plain": [
       "PCA(n_components=30)"
      ]
     },
     "execution_count": 44,
     "metadata": {},
     "output_type": "execute_result"
    }
   ],
   "source": [
    "pca.fit(data_1.iloc[:,:-1])"
   ]
  },
  {
   "cell_type": "code",
   "execution_count": 45,
   "metadata": {},
   "outputs": [],
   "source": [
    "prin_com=pca.transform(data_1.iloc[:,:-1])"
   ]
  },
  {
   "cell_type": "code",
   "execution_count": 46,
   "metadata": {},
   "outputs": [
    {
     "data": {
      "text/plain": [
       "array([[ 3.35540002e+00, -3.93224691e+00, -1.18789760e+00, ...,\n",
       "         2.41278088e-02, -4.68734409e-02,  2.07079447e-01],\n",
       "       [ 1.39907424e+00, -2.38584886e+00, -8.39264078e-01, ...,\n",
       "        -2.94871534e-01,  8.42276810e-02,  5.88590803e-01],\n",
       "       [ 3.08202480e-01,  2.96046061e+00, -2.35939636e+00, ...,\n",
       "        -3.14468059e-01, -1.86164015e-03,  8.86399559e-02],\n",
       "       ...,\n",
       "       [-8.45953734e+00, -2.33414357e-01, -2.65818549e-01, ...,\n",
       "        -2.29595642e-01, -1.13927458e+00, -1.05124473e-01],\n",
       "       [-2.29878785e+00,  1.02102714e-01, -1.04788623e+00, ...,\n",
       "         5.11764076e-02, -2.08650168e-01, -2.76093290e-01],\n",
       "       [-4.18798871e+00, -2.71466332e+00,  6.07481481e-01, ...,\n",
       "         3.04853504e-01, -1.49524199e-01, -4.14703902e-01]])"
      ]
     },
     "execution_count": 46,
     "metadata": {},
     "output_type": "execute_result"
    }
   ],
   "source": [
    "prin_com"
   ]
  },
  {
   "cell_type": "code",
   "execution_count": null,
   "metadata": {},
   "outputs": [],
   "source": []
  },
  {
   "cell_type": "code",
   "execution_count": 47,
   "metadata": {},
   "outputs": [
    {
     "data": {
      "text/plain": [
       "array([0.36443354, 0.14768539, 0.0949438 , 0.05730552, 0.03581323,\n",
       "       0.03339724, 0.02890655, 0.02213939, 0.01977304, 0.01734953,\n",
       "       0.01543905, 0.01495011, 0.01436095, 0.01150557, 0.00962092,\n",
       "       0.00884991, 0.00809779, 0.00734361, 0.00715045, 0.00695687,\n",
       "       0.00661715, 0.0061905 , 0.00541497, 0.00516773, 0.00499666,\n",
       "       0.00434662, 0.00413475, 0.00385922, 0.0032065 , 0.00311648])"
      ]
     },
     "execution_count": 47,
     "metadata": {},
     "output_type": "execute_result"
    }
   ],
   "source": [
    "pca.explained_variance_ratio_"
   ]
  },
  {
   "cell_type": "code",
   "execution_count": null,
   "metadata": {},
   "outputs": [],
   "source": []
  },
  {
   "cell_type": "code",
   "execution_count": null,
   "metadata": {},
   "outputs": [],
   "source": []
  },
  {
   "cell_type": "markdown",
   "metadata": {},
   "source": [
    "### Bar plot representing the variance explained by each components"
   ]
  },
  {
   "cell_type": "code",
   "execution_count": 48,
   "metadata": {},
   "outputs": [
    {
     "data": {
      "image/png": "[encoded data removed]",
      "text/plain": [
       "<Figure size 432x288 with 1 Axes>"
      ]
     },
     "metadata": {
      "needs_background": "light"
     },
     "output_type": "display_data"
    }
   ],
   "source": [
    "import matplotlib.pyplot as plt\n",
    "pd.DataFrame(pca.explained_variance_ratio_).plot.bar()\n",
    "plt.legend('')\n",
    "plt.xlabel('Principal Components')\n",
    "plt.ylabel('Explained Varience')\n",
    "plt.show()"
   ]
  },
  {
   "cell_type": "code",
   "execution_count": null,
   "metadata": {},
   "outputs": [],
   "source": []
  },
  {
   "cell_type": "code",
   "execution_count": null,
   "metadata": {},
   "outputs": [],
   "source": []
  },
  {
   "cell_type": "code",
   "execution_count": 49,
   "metadata": {},
   "outputs": [],
   "source": [
    "from numpy import cumsum\n",
    "Explained_variance = list(cumsum(pca.explained_variance_ratio_)*100)"
   ]
  },
  {
   "cell_type": "code",
   "execution_count": 52,
   "metadata": {},
   "outputs": [],
   "source": [
    "num_of_com =[i for i in range(1,31)]"
   ]
  },
  {
   "cell_type": "code",
   "execution_count": 53,
   "metadata": {},
   "outputs": [],
   "source": [
    "a1=pd.DataFrame(num_of_com,columns=['Number of princial components'])\n",
    "a2=pd.DataFrame(Explained_variance,columns=['% of Explained variance'])"
   ]
  },
  {
   "cell_type": "code",
   "execution_count": 54,
   "metadata": {},
   "outputs": [
    {
     "data": {
      "text/html": [
       "<div>\n",
       "<style scoped>\n",
       "    .dataframe tbody tr th:only-of-type {\n",
       "        vertical-align: middle;\n",
       "    }\n",
       "\n",
       "    .dataframe tbody tr th {\n",
       "        vertical-align: top;\n",
       "    }\n",
       "\n",
       "    .dataframe thead th {\n",
       "        text-align: right;\n",
       "    }\n",
       "</style>\n",
       "<table border=\"1\" class=\"dataframe\">\n",
       "  <thead>\n",
       "    <tr style=\"text-align: right;\">\n",
       "      <th></th>\n",
       "      <th>Number of princial components</th>\n",
       "      <th>% of Explained variance</th>\n",
       "    </tr>\n",
       "  </thead>\n",
       "  <tbody>\n",
       "    <tr>\n",
       "      <th>0</th>\n",
       "      <td>1</td>\n",
       "      <td>36.443354</td>\n",
       "    </tr>\n",
       "    <tr>\n",
       "      <th>1</th>\n",
       "      <td>2</td>\n",
       "      <td>51.211893</td>\n",
       "    </tr>\n",
       "    <tr>\n",
       "      <th>2</th>\n",
       "      <td>3</td>\n",
       "      <td>60.706274</td>\n",
       "    </tr>\n",
       "    <tr>\n",
       "      <th>3</th>\n",
       "      <td>4</td>\n",
       "      <td>66.436826</td>\n",
       "    </tr>\n",
       "    <tr>\n",
       "      <th>4</th>\n",
       "      <td>5</td>\n",
       "      <td>70.018149</td>\n",
       "    </tr>\n",
       "    <tr>\n",
       "      <th>5</th>\n",
       "      <td>6</td>\n",
       "      <td>73.357873</td>\n",
       "    </tr>\n",
       "    <tr>\n",
       "      <th>6</th>\n",
       "      <td>7</td>\n",
       "      <td>76.248528</td>\n",
       "    </tr>\n",
       "    <tr>\n",
       "      <th>7</th>\n",
       "      <td>8</td>\n",
       "      <td>78.462467</td>\n",
       "    </tr>\n",
       "    <tr>\n",
       "      <th>8</th>\n",
       "      <td>9</td>\n",
       "      <td>80.439771</td>\n",
       "    </tr>\n",
       "    <tr>\n",
       "      <th>9</th>\n",
       "      <td>10</td>\n",
       "      <td>82.174724</td>\n",
       "    </tr>\n",
       "    <tr>\n",
       "      <th>10</th>\n",
       "      <td>11</td>\n",
       "      <td>83.718628</td>\n",
       "    </tr>\n",
       "    <tr>\n",
       "      <th>11</th>\n",
       "      <td>12</td>\n",
       "      <td>85.213640</td>\n",
       "    </tr>\n",
       "    <tr>\n",
       "      <th>12</th>\n",
       "      <td>13</td>\n",
       "      <td>86.649735</td>\n",
       "    </tr>\n",
       "    <tr>\n",
       "      <th>13</th>\n",
       "      <td>14</td>\n",
       "      <td>87.800292</td>\n",
       "    </tr>\n",
       "    <tr>\n",
       "      <th>14</th>\n",
       "      <td>15</td>\n",
       "      <td>88.762384</td>\n",
       "    </tr>\n",
       "    <tr>\n",
       "      <th>15</th>\n",
       "      <td>16</td>\n",
       "      <td>89.647375</td>\n",
       "    </tr>\n",
       "    <tr>\n",
       "      <th>16</th>\n",
       "      <td>17</td>\n",
       "      <td>90.457154</td>\n",
       "    </tr>\n",
       "    <tr>\n",
       "      <th>17</th>\n",
       "      <td>18</td>\n",
       "      <td>91.191515</td>\n",
       "    </tr>\n",
       "    <tr>\n",
       "      <th>18</th>\n",
       "      <td>19</td>\n",
       "      <td>91.906560</td>\n",
       "    </tr>\n",
       "    <tr>\n",
       "      <th>19</th>\n",
       "      <td>20</td>\n",
       "      <td>92.602247</td>\n",
       "    </tr>\n",
       "    <tr>\n",
       "      <th>20</th>\n",
       "      <td>21</td>\n",
       "      <td>93.263961</td>\n",
       "    </tr>\n",
       "    <tr>\n",
       "      <th>21</th>\n",
       "      <td>22</td>\n",
       "      <td>93.883011</td>\n",
       "    </tr>\n",
       "    <tr>\n",
       "      <th>22</th>\n",
       "      <td>23</td>\n",
       "      <td>94.424508</td>\n",
       "    </tr>\n",
       "    <tr>\n",
       "      <th>23</th>\n",
       "      <td>24</td>\n",
       "      <td>94.941281</td>\n",
       "    </tr>\n",
       "    <tr>\n",
       "      <th>24</th>\n",
       "      <td>25</td>\n",
       "      <td>95.440946</td>\n",
       "    </tr>\n",
       "    <tr>\n",
       "      <th>25</th>\n",
       "      <td>26</td>\n",
       "      <td>95.875608</td>\n",
       "    </tr>\n",
       "    <tr>\n",
       "      <th>26</th>\n",
       "      <td>27</td>\n",
       "      <td>96.289083</td>\n",
       "    </tr>\n",
       "    <tr>\n",
       "      <th>27</th>\n",
       "      <td>28</td>\n",
       "      <td>96.675005</td>\n",
       "    </tr>\n",
       "    <tr>\n",
       "      <th>28</th>\n",
       "      <td>29</td>\n",
       "      <td>96.995655</td>\n",
       "    </tr>\n",
       "    <tr>\n",
       "      <th>29</th>\n",
       "      <td>30</td>\n",
       "      <td>97.307303</td>\n",
       "    </tr>\n",
       "  </tbody>\n",
       "</table>\n",
       "</div>"
      ],
      "text/plain": [
       "    Number of princial components  % of Explained variance\n",
       "0                               1                36.443354\n",
       "1                               2                51.211893\n",
       "2                               3                60.706274\n",
       "3                               4                66.436826\n",
       "4                               5                70.018149\n",
       "5                               6                73.357873\n",
       "6                               7                76.248528\n",
       "7                               8                78.462467\n",
       "8                               9                80.439771\n",
       "9                              10                82.174724\n",
       "10                             11                83.718628\n",
       "11                             12                85.213640\n",
       "12                             13                86.649735\n",
       "13                             14                87.800292\n",
       "14                             15                88.762384\n",
       "15                             16                89.647375\n",
       "16                             17                90.457154\n",
       "17                             18                91.191515\n",
       "18                             19                91.906560\n",
       "19                             20                92.602247\n",
       "20                             21                93.263961\n",
       "21                             22                93.883011\n",
       "22                             23                94.424508\n",
       "23                             24                94.941281\n",
       "24                             25                95.440946\n",
       "25                             26                95.875608\n",
       "26                             27                96.289083\n",
       "27                             28                96.675005\n",
       "28                             29                96.995655\n",
       "29                             30                97.307303"
      ]
     },
     "execution_count": 54,
     "metadata": {},
     "output_type": "execute_result"
    }
   ],
   "source": [
    "explained_var_df=pd.concat([a1,a2],axis=1)\n",
    "explained_var_df"
   ]
  },
  {
   "cell_type": "code",
   "execution_count": null,
   "metadata": {},
   "outputs": [],
   "source": []
  },
  {
   "cell_type": "markdown",
   "metadata": {},
   "source": [
    "### Cumulative  Explained Varience using line plot"
   ]
  },
  {
   "cell_type": "code",
   "execution_count": 55,
   "metadata": {},
   "outputs": [
    {
     "data": {
      "image/png": "[encoded data removed]",
      "text/plain": [
       "<Figure size 432x288 with 1 Axes>"
      ]
     },
     "metadata": {
      "needs_background": "light"
     },
     "output_type": "display_data"
    }
   ],
   "source": [
    "plt.plot(Explained_variance, linestyle = '-')\n",
    "plt.title('Cumulative explained Varience ')\n",
    "plt.xlabel('Principal Components')\n",
    "plt.ylabel('Explained Varience')\n",
    "plt.show()"
   ]
  },
  {
   "cell_type": "code",
   "execution_count": null,
   "metadata": {},
   "outputs": [],
   "source": []
  },
  {
   "cell_type": "markdown",
   "metadata": {},
   "source": [
    "## From the 10 principal components  around 82.17% of variance has been explained, from 15 principal components around 88.76% of variance has been explained, from 20 principal components around 92.60% of variance has been explained, from 25 principal components around 95.44% of variance has been explained and from 30 principal components around 97.30% of variance has been explained"
   ]
  },
  {
   "cell_type": "code",
   "execution_count": null,
   "metadata": {},
   "outputs": [],
   "source": []
  },
  {
   "cell_type": "code",
   "execution_count": null,
   "metadata": {},
   "outputs": [],
   "source": []
  },
  {
   "cell_type": "code",
   "execution_count": null,
   "metadata": {},
   "outputs": [],
   "source": []
  },
  {
   "cell_type": "code",
   "execution_count": null,
   "metadata": {},
   "outputs": [],
   "source": []
  }
 ],
 "metadata": {
  "kernelspec": {
   "display_name": "Python 3",
   "language": "python",
   "name": "python3"
  },
  "language_info": {
   "codemirror_mode": {
    "name": "ipython",
    "version": 3
   },
   "file_extension": ".py",
   "mimetype": "text/x-python",
   "name": "python",
   "nbconvert_exporter": "python",
   "pygments_lexer": "ipython3",
   "version": "3.7.6"
  }
 },
 "nbformat": 4,
 "nbformat_minor": 4
}
